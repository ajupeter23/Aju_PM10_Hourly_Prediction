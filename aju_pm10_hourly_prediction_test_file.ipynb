{
 "cells": [
  {
   "cell_type": "code",
   "execution_count": null,
   "id": "da21b575-c1fc-48ff-9139-43c559d62db0",
   "metadata": {},
   "outputs": [],
   "source": [
    "!pip install aju_pm10_hourly_prediction"
   ]
  },
  {
   "cell_type": "code",
   "execution_count": null,
   "id": "a5bdc94a-d088-469d-b5f4-cd182ea67b92",
   "metadata": {},
   "outputs": [],
   "source": [
    "from aju_pm10_hourly_prediction import run_full_pipeline\n",
    "\n",
    "# Path to your test data and models\n",
    "input_csv = 'your/path/data/raw_data.csv'\n",
    "xgb_model_path = 'your/path/models/best_xgb_model2.pkl'\n",
    "rf_model_path = 'your/path/models/best_rf_model.pkl'\n",
    "svm_model_path = 'your/path/models/best_svm_model.pkl'\n",
    "gru_model_path = 'your/path/models/gru_model.h5'\n",
    "lstm_model_path = 'your/path/models/lstm_model.keras'\n",
    "\n",
    "# Run the full pipeline\n",
    "pred_df = run_full_pipeline(\n",
    "    input_csv=input_csv, \n",
    "    xgb_model_path=xgb_model_path,\n",
    "    rf_model_path=rf_model_path,\n",
    "    svm_model_path=svm_model_path,\n",
    "    gru_model_path=gru_model_path,\n",
    "    lstm_model_path=lstm_model_path\n",
    ")\n",
    "\n",
    "# Display the results\n",
    "pred_df\n"
   ]
  },
  {
   "cell_type": "code",
   "execution_count": null,
   "id": "1b02ea1b-6cf5-4412-ab81-ddc56e7b893b",
   "metadata": {},
   "outputs": [],
   "source": []
  }
 ],
 "metadata": {
  "kernelspec": {
   "display_name": "Python 3 (ipykernel)",
   "language": "python",
   "name": "python3"
  },
  "language_info": {
   "codemirror_mode": {
    "name": "ipython",
    "version": 3
   },
   "file_extension": ".py",
   "mimetype": "text/x-python",
   "name": "python",
   "nbconvert_exporter": "python",
   "pygments_lexer": "ipython3",
   "version": "3.12.4"
  }
 },
 "nbformat": 4,
 "nbformat_minor": 5
}
